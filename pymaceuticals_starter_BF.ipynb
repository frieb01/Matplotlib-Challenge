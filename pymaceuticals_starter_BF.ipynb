{
 "cells": [
  {
   "cell_type": "markdown",
   "metadata": {},
   "source": [
    "## Observations and Insights "
   ]
  },
  {
   "cell_type": "markdown",
   "metadata": {},
   "source": [
    "* My first observation is that Capomulin and Ramicane had the most mice at each timepoint throughout the study, which I would interpret as the highest survival rate. To coincide with this, they also had the lowest average tumor volume of all the Drug Regimens.\n",
    "\n",
    "* The average tumor volume for both Ramicane and Infubinol was fairly centered in the interquartile range while Infubinol has an outlier, albeit not a strong one being it's just outside the range. \n",
    "\n",
    "* The tumor in mouse l509 on Capomulin had a very sharp decrease in volume after the 20th day of treatment with a slight increase in volume between days 35 and 45. \n",
    "\n",
    "* The correlation between mouse weight and average tumor volume for mice on Capomulin is very strong with a correlation coefficient of 0.84."
   ]
  },
  {
   "cell_type": "code",
   "execution_count": 1,
   "metadata": {},
   "outputs": [],
   "source": [
    "# Dependencies and Setup\n",
    "import matplotlib.pyplot as plt\n",
    "import pandas as pd\n",
    "import scipy.stats as st\n",
    "import numpy as np\n",
    "from scipy.stats import linregress\n",
    "\n",
    "# Study data files\n",
    "mouse_metadata_path = \"data/Mouse_metadata.csv\"\n",
    "study_results_path = \"data/Study_results.csv\"\n",
    "\n",
    "# Read the mouse data and the study results\n",
    "mouse_metadata = pd.read_csv(mouse_metadata_path)\n",
    "study_results = pd.read_csv(study_results_path)\n",
    "\n",
    "# Combine the data into a single dataset\n",
    "combined_data = pd.merge(mouse_metadata, study_results, on=\"Mouse ID\")"
   ]
  },
  {
   "cell_type": "code",
   "execution_count": 2,
   "metadata": {},
   "outputs": [
    {
     "data": {
      "text/plain": [
       "Mouse ID              1893\n",
       "Drug Regimen          1893\n",
       "Sex                   1893\n",
       "Age_months            1893\n",
       "Weight (g)            1893\n",
       "Timepoint             1893\n",
       "Tumor Volume (mm3)    1893\n",
       "Metastatic Sites      1893\n",
       "dtype: int64"
      ]
     },
     "execution_count": 2,
     "metadata": {},
     "output_type": "execute_result"
    }
   ],
   "source": [
    "# Checking the number of mice in the DataFrame.\n",
    "combined_data.count()"
   ]
  },
  {
   "cell_type": "code",
   "execution_count": 3,
   "metadata": {},
   "outputs": [
    {
     "data": {
      "text/html": [
       "<div>\n",
       "<style scoped>\n",
       "    .dataframe tbody tr th:only-of-type {\n",
       "        vertical-align: middle;\n",
       "    }\n",
       "\n",
       "    .dataframe tbody tr th {\n",
       "        vertical-align: top;\n",
       "    }\n",
       "\n",
       "    .dataframe thead th {\n",
       "        text-align: right;\n",
       "    }\n",
       "</style>\n",
       "<table border=\"1\" class=\"dataframe\">\n",
       "  <thead>\n",
       "    <tr style=\"text-align: right;\">\n",
       "      <th></th>\n",
       "      <th>Mouse ID</th>\n",
       "      <th>Timepoint</th>\n",
       "      <th>Freq</th>\n",
       "    </tr>\n",
       "  </thead>\n",
       "  <tbody>\n",
       "    <tr>\n",
       "      <td>586</td>\n",
       "      <td>g989</td>\n",
       "      <td>0</td>\n",
       "      <td>2</td>\n",
       "    </tr>\n",
       "    <tr>\n",
       "      <td>587</td>\n",
       "      <td>g989</td>\n",
       "      <td>5</td>\n",
       "      <td>2</td>\n",
       "    </tr>\n",
       "    <tr>\n",
       "      <td>588</td>\n",
       "      <td>g989</td>\n",
       "      <td>10</td>\n",
       "      <td>2</td>\n",
       "    </tr>\n",
       "    <tr>\n",
       "      <td>589</td>\n",
       "      <td>g989</td>\n",
       "      <td>15</td>\n",
       "      <td>2</td>\n",
       "    </tr>\n",
       "    <tr>\n",
       "      <td>590</td>\n",
       "      <td>g989</td>\n",
       "      <td>20</td>\n",
       "      <td>2</td>\n",
       "    </tr>\n",
       "  </tbody>\n",
       "</table>\n",
       "</div>"
      ],
      "text/plain": [
       "    Mouse ID  Timepoint  Freq\n",
       "586     g989          0     2\n",
       "587     g989          5     2\n",
       "588     g989         10     2\n",
       "589     g989         15     2\n",
       "590     g989         20     2"
      ]
     },
     "execution_count": 3,
     "metadata": {},
     "output_type": "execute_result"
    }
   ],
   "source": [
    "# Getting the duplicate mice by ID number that shows up for Mouse ID and Timepoint. \n",
    "# Resource: https://stackoverflow.com/questions/44906754/unique-values-of-two-columns-for-pandas-dataframe?rq=1\n",
    "df = combined_data.groupby(['Mouse ID', 'Timepoint']).size().reset_index(name='Freq')\n",
    "temp_df = pd.DataFrame(df)\n",
    "temp_df = df.loc[temp_df[\"Freq\"]>1]\n",
    "temp_df.head(20)"
   ]
  },
  {
   "cell_type": "code",
   "execution_count": 4,
   "metadata": {},
   "outputs": [
    {
     "data": {
      "text/html": [
       "<div>\n",
       "<style scoped>\n",
       "    .dataframe tbody tr th:only-of-type {\n",
       "        vertical-align: middle;\n",
       "    }\n",
       "\n",
       "    .dataframe tbody tr th {\n",
       "        vertical-align: top;\n",
       "    }\n",
       "\n",
       "    .dataframe thead th {\n",
       "        text-align: right;\n",
       "    }\n",
       "</style>\n",
       "<table border=\"1\" class=\"dataframe\">\n",
       "  <thead>\n",
       "    <tr style=\"text-align: right;\">\n",
       "      <th></th>\n",
       "      <th>Mouse ID</th>\n",
       "      <th>Drug Regimen</th>\n",
       "      <th>Sex</th>\n",
       "      <th>Age_months</th>\n",
       "      <th>Weight (g)</th>\n",
       "      <th>Timepoint</th>\n",
       "      <th>Tumor Volume (mm3)</th>\n",
       "      <th>Metastatic Sites</th>\n",
       "    </tr>\n",
       "  </thead>\n",
       "  <tbody>\n",
       "    <tr>\n",
       "      <td>908</td>\n",
       "      <td>g989</td>\n",
       "      <td>Propriva</td>\n",
       "      <td>Female</td>\n",
       "      <td>21</td>\n",
       "      <td>26</td>\n",
       "      <td>0</td>\n",
       "      <td>45.000000</td>\n",
       "      <td>0</td>\n",
       "    </tr>\n",
       "    <tr>\n",
       "      <td>909</td>\n",
       "      <td>g989</td>\n",
       "      <td>Propriva</td>\n",
       "      <td>Female</td>\n",
       "      <td>21</td>\n",
       "      <td>26</td>\n",
       "      <td>0</td>\n",
       "      <td>45.000000</td>\n",
       "      <td>0</td>\n",
       "    </tr>\n",
       "    <tr>\n",
       "      <td>910</td>\n",
       "      <td>g989</td>\n",
       "      <td>Propriva</td>\n",
       "      <td>Female</td>\n",
       "      <td>21</td>\n",
       "      <td>26</td>\n",
       "      <td>5</td>\n",
       "      <td>48.786801</td>\n",
       "      <td>0</td>\n",
       "    </tr>\n",
       "    <tr>\n",
       "      <td>911</td>\n",
       "      <td>g989</td>\n",
       "      <td>Propriva</td>\n",
       "      <td>Female</td>\n",
       "      <td>21</td>\n",
       "      <td>26</td>\n",
       "      <td>5</td>\n",
       "      <td>47.570392</td>\n",
       "      <td>0</td>\n",
       "    </tr>\n",
       "    <tr>\n",
       "      <td>912</td>\n",
       "      <td>g989</td>\n",
       "      <td>Propriva</td>\n",
       "      <td>Female</td>\n",
       "      <td>21</td>\n",
       "      <td>26</td>\n",
       "      <td>10</td>\n",
       "      <td>51.745156</td>\n",
       "      <td>0</td>\n",
       "    </tr>\n",
       "    <tr>\n",
       "      <td>913</td>\n",
       "      <td>g989</td>\n",
       "      <td>Propriva</td>\n",
       "      <td>Female</td>\n",
       "      <td>21</td>\n",
       "      <td>26</td>\n",
       "      <td>10</td>\n",
       "      <td>49.880528</td>\n",
       "      <td>0</td>\n",
       "    </tr>\n",
       "    <tr>\n",
       "      <td>914</td>\n",
       "      <td>g989</td>\n",
       "      <td>Propriva</td>\n",
       "      <td>Female</td>\n",
       "      <td>21</td>\n",
       "      <td>26</td>\n",
       "      <td>15</td>\n",
       "      <td>51.325852</td>\n",
       "      <td>1</td>\n",
       "    </tr>\n",
       "    <tr>\n",
       "      <td>915</td>\n",
       "      <td>g989</td>\n",
       "      <td>Propriva</td>\n",
       "      <td>Female</td>\n",
       "      <td>21</td>\n",
       "      <td>26</td>\n",
       "      <td>15</td>\n",
       "      <td>53.442020</td>\n",
       "      <td>0</td>\n",
       "    </tr>\n",
       "    <tr>\n",
       "      <td>916</td>\n",
       "      <td>g989</td>\n",
       "      <td>Propriva</td>\n",
       "      <td>Female</td>\n",
       "      <td>21</td>\n",
       "      <td>26</td>\n",
       "      <td>20</td>\n",
       "      <td>55.326122</td>\n",
       "      <td>1</td>\n",
       "    </tr>\n",
       "    <tr>\n",
       "      <td>917</td>\n",
       "      <td>g989</td>\n",
       "      <td>Propriva</td>\n",
       "      <td>Female</td>\n",
       "      <td>21</td>\n",
       "      <td>26</td>\n",
       "      <td>20</td>\n",
       "      <td>54.657650</td>\n",
       "      <td>1</td>\n",
       "    </tr>\n",
       "    <tr>\n",
       "      <td>918</td>\n",
       "      <td>g989</td>\n",
       "      <td>Propriva</td>\n",
       "      <td>Female</td>\n",
       "      <td>21</td>\n",
       "      <td>26</td>\n",
       "      <td>25</td>\n",
       "      <td>56.045564</td>\n",
       "      <td>1</td>\n",
       "    </tr>\n",
       "    <tr>\n",
       "      <td>919</td>\n",
       "      <td>g989</td>\n",
       "      <td>Propriva</td>\n",
       "      <td>Female</td>\n",
       "      <td>21</td>\n",
       "      <td>26</td>\n",
       "      <td>30</td>\n",
       "      <td>59.082294</td>\n",
       "      <td>1</td>\n",
       "    </tr>\n",
       "    <tr>\n",
       "      <td>920</td>\n",
       "      <td>g989</td>\n",
       "      <td>Propriva</td>\n",
       "      <td>Female</td>\n",
       "      <td>21</td>\n",
       "      <td>26</td>\n",
       "      <td>35</td>\n",
       "      <td>62.570880</td>\n",
       "      <td>2</td>\n",
       "    </tr>\n",
       "  </tbody>\n",
       "</table>\n",
       "</div>"
      ],
      "text/plain": [
       "    Mouse ID Drug Regimen     Sex  Age_months  Weight (g)  Timepoint  \\\n",
       "908     g989     Propriva  Female          21          26          0   \n",
       "909     g989     Propriva  Female          21          26          0   \n",
       "910     g989     Propriva  Female          21          26          5   \n",
       "911     g989     Propriva  Female          21          26          5   \n",
       "912     g989     Propriva  Female          21          26         10   \n",
       "913     g989     Propriva  Female          21          26         10   \n",
       "914     g989     Propriva  Female          21          26         15   \n",
       "915     g989     Propriva  Female          21          26         15   \n",
       "916     g989     Propriva  Female          21          26         20   \n",
       "917     g989     Propriva  Female          21          26         20   \n",
       "918     g989     Propriva  Female          21          26         25   \n",
       "919     g989     Propriva  Female          21          26         30   \n",
       "920     g989     Propriva  Female          21          26         35   \n",
       "\n",
       "     Tumor Volume (mm3)  Metastatic Sites  \n",
       "908           45.000000                 0  \n",
       "909           45.000000                 0  \n",
       "910           48.786801                 0  \n",
       "911           47.570392                 0  \n",
       "912           51.745156                 0  \n",
       "913           49.880528                 0  \n",
       "914           51.325852                 1  \n",
       "915           53.442020                 0  \n",
       "916           55.326122                 1  \n",
       "917           54.657650                 1  \n",
       "918           56.045564                 1  \n",
       "919           59.082294                 1  \n",
       "920           62.570880                 2  "
      ]
     },
     "execution_count": 4,
     "metadata": {},
     "output_type": "execute_result"
    }
   ],
   "source": [
    "# Optional: Get all the data for the duplicate mouse ID. \n",
    "dupe_mouse = combined_data.loc[combined_data[\"Mouse ID\"] == \"g989\", :]\n",
    "dupe_mouse"
   ]
  },
  {
   "cell_type": "code",
   "execution_count": 5,
   "metadata": {},
   "outputs": [],
   "source": [
    "# Create a clean DataFrame by dropping the duplicate mouse by its ID.\n",
    "combined_data.drop_duplicates(subset=[\"Mouse ID\",\"Timepoint\"], inplace=True)"
   ]
  },
  {
   "cell_type": "code",
   "execution_count": 6,
   "metadata": {},
   "outputs": [
    {
     "data": {
      "text/plain": [
       "Mouse ID              1888\n",
       "Drug Regimen          1888\n",
       "Sex                   1888\n",
       "Age_months            1888\n",
       "Weight (g)            1888\n",
       "Timepoint             1888\n",
       "Tumor Volume (mm3)    1888\n",
       "Metastatic Sites      1888\n",
       "dtype: int64"
      ]
     },
     "execution_count": 6,
     "metadata": {},
     "output_type": "execute_result"
    }
   ],
   "source": [
    "# Checking the number of mice in the clean DataFrame.\n",
    "combined_data.count()"
   ]
  },
  {
   "cell_type": "markdown",
   "metadata": {},
   "source": [
    "## Summary Statistics"
   ]
  },
  {
   "cell_type": "code",
   "execution_count": 7,
   "metadata": {},
   "outputs": [],
   "source": [
    "# Generate a summary statistics table of mean, median, variance, standard deviation, and SEM of the tumor volume for each regimen\n",
    "# This method is the most straighforward, creating multiple series and putting them all together at the end.\n",
    "regimen_group = combined_data.groupby('Drug Regimen')\n",
    "\n",
    "r_mean = regimen_group[\"Tumor Volume (mm3)\"].mean()\n",
    "r_med = regimen_group[\"Tumor Volume (mm3)\"].median()\n",
    "var_calc = combined_data.groupby('Drug Regimen').var()\n",
    "r_var = var_calc[\"Tumor Volume (mm3)\"]\n",
    "std_calc = combined_data.groupby('Drug Regimen').std()\n",
    "r_std = std_calc[\"Tumor Volume (mm3)\"] \n",
    "sems = combined_data.groupby('Drug Regimen').sem()\n",
    "r_sems = sems[\"Tumor Volume (mm3)\"] \n",
    "\n",
    "summary_df = pd.merge(r_mean, r_med, on=\"Drug Regimen\")\n",
    "summary_df = summary_df.rename(columns={\"Tumor Volume (mm3)_x\":\"Tumor Volume Mean\", \n",
    "                                        \"Tumor Volume (mm3)_y\":\"Tumor Volume Median\"})\n",
    "summary_df = pd.merge(summary_df, r_var, on=\"Drug Regimen\")\n",
    "summary_df = summary_df.rename(columns={\"Tumor Volume (mm3)\":\"Tumor Volume Variance\"})\n",
    "summary_df = pd.merge(summary_df, r_std, on=\"Drug Regimen\")\n",
    "summary_df = summary_df.rename(columns={\"Tumor Volume (mm3)\":\"Tumor Volume Std Deviation\"})\n",
    "summary_df = pd.merge(summary_df, r_sems, on=\"Drug Regimen\")\n",
    "summary_df = summary_df.rename(columns={\"Tumor Volume (mm3)\":\"Tumor Volume SEM\"})"
   ]
  },
  {
   "cell_type": "code",
   "execution_count": 8,
   "metadata": {
    "scrolled": true
   },
   "outputs": [
    {
     "data": {
      "text/html": [
       "<div>\n",
       "<style scoped>\n",
       "    .dataframe tbody tr th:only-of-type {\n",
       "        vertical-align: middle;\n",
       "    }\n",
       "\n",
       "    .dataframe tbody tr th {\n",
       "        vertical-align: top;\n",
       "    }\n",
       "\n",
       "    .dataframe thead th {\n",
       "        text-align: right;\n",
       "    }\n",
       "</style>\n",
       "<table border=\"1\" class=\"dataframe\">\n",
       "  <thead>\n",
       "    <tr style=\"text-align: right;\">\n",
       "      <th></th>\n",
       "      <th>Tumor Volume Mean</th>\n",
       "      <th>Tumor Volume Median</th>\n",
       "      <th>Tumor Volume Variance</th>\n",
       "      <th>Tumor Volume Std Deviation</th>\n",
       "      <th>Tumor Volume SEM</th>\n",
       "    </tr>\n",
       "    <tr>\n",
       "      <th>Drug Regimen</th>\n",
       "      <th></th>\n",
       "      <th></th>\n",
       "      <th></th>\n",
       "      <th></th>\n",
       "      <th></th>\n",
       "    </tr>\n",
       "  </thead>\n",
       "  <tbody>\n",
       "    <tr>\n",
       "      <td>Capomulin</td>\n",
       "      <td>40.675741</td>\n",
       "      <td>41.557809</td>\n",
       "      <td>24.947764</td>\n",
       "      <td>4.994774</td>\n",
       "      <td>0.329346</td>\n",
       "    </tr>\n",
       "    <tr>\n",
       "      <td>Ceftamin</td>\n",
       "      <td>52.591172</td>\n",
       "      <td>51.776157</td>\n",
       "      <td>39.290177</td>\n",
       "      <td>6.268188</td>\n",
       "      <td>0.469821</td>\n",
       "    </tr>\n",
       "    <tr>\n",
       "      <td>Infubinol</td>\n",
       "      <td>52.884795</td>\n",
       "      <td>51.820584</td>\n",
       "      <td>43.128684</td>\n",
       "      <td>6.567243</td>\n",
       "      <td>0.492236</td>\n",
       "    </tr>\n",
       "    <tr>\n",
       "      <td>Ketapril</td>\n",
       "      <td>55.235638</td>\n",
       "      <td>53.698743</td>\n",
       "      <td>68.553577</td>\n",
       "      <td>8.279709</td>\n",
       "      <td>0.603860</td>\n",
       "    </tr>\n",
       "    <tr>\n",
       "      <td>Naftisol</td>\n",
       "      <td>54.331565</td>\n",
       "      <td>52.509285</td>\n",
       "      <td>66.173479</td>\n",
       "      <td>8.134708</td>\n",
       "      <td>0.596466</td>\n",
       "    </tr>\n",
       "    <tr>\n",
       "      <td>Placebo</td>\n",
       "      <td>54.033581</td>\n",
       "      <td>52.288934</td>\n",
       "      <td>61.168083</td>\n",
       "      <td>7.821003</td>\n",
       "      <td>0.581331</td>\n",
       "    </tr>\n",
       "    <tr>\n",
       "      <td>Propriva</td>\n",
       "      <td>52.393463</td>\n",
       "      <td>50.909965</td>\n",
       "      <td>43.138803</td>\n",
       "      <td>6.568014</td>\n",
       "      <td>0.525862</td>\n",
       "    </tr>\n",
       "    <tr>\n",
       "      <td>Ramicane</td>\n",
       "      <td>40.216745</td>\n",
       "      <td>40.673236</td>\n",
       "      <td>23.486704</td>\n",
       "      <td>4.846308</td>\n",
       "      <td>0.320955</td>\n",
       "    </tr>\n",
       "    <tr>\n",
       "      <td>Stelasyn</td>\n",
       "      <td>54.233149</td>\n",
       "      <td>52.431737</td>\n",
       "      <td>59.450562</td>\n",
       "      <td>7.710419</td>\n",
       "      <td>0.573111</td>\n",
       "    </tr>\n",
       "    <tr>\n",
       "      <td>Zoniferol</td>\n",
       "      <td>53.236507</td>\n",
       "      <td>51.818479</td>\n",
       "      <td>48.533355</td>\n",
       "      <td>6.966589</td>\n",
       "      <td>0.516398</td>\n",
       "    </tr>\n",
       "  </tbody>\n",
       "</table>\n",
       "</div>"
      ],
      "text/plain": [
       "              Tumor Volume Mean  Tumor Volume Median  Tumor Volume Variance  \\\n",
       "Drug Regimen                                                                  \n",
       "Capomulin             40.675741            41.557809              24.947764   \n",
       "Ceftamin              52.591172            51.776157              39.290177   \n",
       "Infubinol             52.884795            51.820584              43.128684   \n",
       "Ketapril              55.235638            53.698743              68.553577   \n",
       "Naftisol              54.331565            52.509285              66.173479   \n",
       "Placebo               54.033581            52.288934              61.168083   \n",
       "Propriva              52.393463            50.909965              43.138803   \n",
       "Ramicane              40.216745            40.673236              23.486704   \n",
       "Stelasyn              54.233149            52.431737              59.450562   \n",
       "Zoniferol             53.236507            51.818479              48.533355   \n",
       "\n",
       "              Tumor Volume Std Deviation  Tumor Volume SEM  \n",
       "Drug Regimen                                                \n",
       "Capomulin                       4.994774          0.329346  \n",
       "Ceftamin                        6.268188          0.469821  \n",
       "Infubinol                       6.567243          0.492236  \n",
       "Ketapril                        8.279709          0.603860  \n",
       "Naftisol                        8.134708          0.596466  \n",
       "Placebo                         7.821003          0.581331  \n",
       "Propriva                        6.568014          0.525862  \n",
       "Ramicane                        4.846308          0.320955  \n",
       "Stelasyn                        7.710419          0.573111  \n",
       "Zoniferol                       6.966589          0.516398  "
      ]
     },
     "execution_count": 8,
     "metadata": {},
     "output_type": "execute_result"
    }
   ],
   "source": [
    "# Generate a summary statistics table of mean, median, variance, standard deviation, and SEM of the tumor volume for each regimen\n",
    "summary_df"
   ]
  },
  {
   "cell_type": "markdown",
   "metadata": {},
   "source": [
    "## Bar Plots"
   ]
  },
  {
   "cell_type": "code",
   "execution_count": 9,
   "metadata": {},
   "outputs": [
    {
     "data": {
      "image/png": "[encoded data removed]",
      "text/plain": [
       "<Figure size 432x288 with 1 Axes>"
      ]
     },
     "metadata": {
      "needs_background": "light"
     },
     "output_type": "display_data"
    }
   ],
   "source": [
    "# Generate a bar plot showing the number of mice per time point for each treatment throughout the course of the study using pandas. \n",
    "regimen_groups = combined_data.groupby([\"Drug Regimen\"])\n",
    "tps = regimen_groups[\"Timepoint\"].count()\n",
    "tps.sort_values(inplace=True, ascending=False)\n",
    "mouse_tps_chart = tps.plot(kind='bar', title=\"Number of Mice per Drug Regimen\", alpha=.85, color=\"purple\")\n",
    "mouse_tps_chart.set_xlabel(\"Drug Regimen\")\n",
    "mouse_tps_chart.set_ylabel(\"Total Mice\")\n",
    "plt.show()"
   ]
  },
  {
   "cell_type": "code",
   "execution_count": 10,
   "metadata": {},
   "outputs": [
    {
     "data": {
      "image/png": "[encoded data removed]",
      "text/plain": [
       "<Figure size 432x288 with 1 Axes>"
      ]
     },
     "metadata": {
      "needs_background": "light"
     },
     "output_type": "display_data"
    }
   ],
   "source": [
    "# Generate a bar plot showing the number of mice per time point for each treatment throughout the course of the study using pyplot.\n",
    "x_axis = combined_data[\"Drug Regimen\"].unique()\n",
    "\n",
    "tps = regimen_groups[\"Timepoint\"].count()\n",
    "tps.sort_values(inplace=True, ascending=False)\n",
    "plt.bar(x_axis, tps, color=\"purple\", align=\"center\", alpha=.85, width=.55)\n",
    "tick_locations = [value for value in x_axis]\n",
    "plt.xticks(tick_locations, rotation=90)\n",
    "plt.title(\"Number of Mice per Timepoint\")\n",
    "plt.xlabel(\"Drug Regimen\")\n",
    "plt.ylabel(\"Total Mice\")\n",
    "plt.xlim(-.55,9.45)\n",
    "plt.show()"
   ]
  },
  {
   "cell_type": "markdown",
   "metadata": {},
   "source": [
    "## Pie Plots"
   ]
  },
  {
   "cell_type": "markdown",
   "metadata": {},
   "source": []
  },
  {
   "cell_type": "code",
   "execution_count": 11,
   "metadata": {},
   "outputs": [
    {
     "data": {
      "image/png": "[encoded data removed]",
      "text/plain": [
       "<Figure size 432x288 with 1 Axes>"
      ]
     },
     "metadata": {},
     "output_type": "display_data"
    }
   ],
   "source": [
    "# Generate a pie plot showing the distribution of female versus male mice using pandas\n",
    "mice = mouse_metadata[\"Sex\"].value_counts()\n",
    "gender_list = mice.keys()\n",
    "\n",
    "mouse_gender_pie = mice.plot(kind='pie', y=gender_list, title=\"Number of Female v. Male Mice\", autopct=\"%1.1f%%\", startangle=80)\n",
    "mouse_gender_pie.set_ylabel(\"Number of Mice\")\n",
    "plt.show()"
   ]
  },
  {
   "cell_type": "code",
   "execution_count": 12,
   "metadata": {},
   "outputs": [
    {
     "data": {
      "image/png": "[encoded data removed]",
      "text/plain": [
       "<Figure size 432x288 with 1 Axes>"
      ]
     },
     "metadata": {},
     "output_type": "display_data"
    }
   ],
   "source": [
    "# Generate a pie plot showing the distribution of female versus male mice using pyplot\n",
    "mice = mouse_metadata[\"Sex\"].value_counts()\n",
    "gender_list = mice.keys()\n",
    "\n",
    "plt.pie(mice, labels=gender_list, autopct=\"%1.1f%%\", startangle=80)\n",
    "plt.title(\"Number of Female v. Male Mice\")\n",
    "plt.ylabel(\"Number of Mice\")\n",
    "plt.show()"
   ]
  },
  {
   "cell_type": "markdown",
   "metadata": {},
   "source": [
    "## Quartiles, Outliers and Boxplots"
   ]
  },
  {
   "cell_type": "code",
   "execution_count": 13,
   "metadata": {},
   "outputs": [],
   "source": [
    "# Calculate the final tumor volume of each mouse across four of the most promising treatment regimens. Calculate the IQR and quantitatively determine if there are any potential outliers. \n",
    "combined_data.sort_values(by=['Mouse ID','Timepoint'])\n",
    "combined_data.drop_duplicates(subset='Mouse ID', keep='last', inplace=True)\n",
    "\n",
    "capomulin_df = combined_data.loc[(combined_data[\"Drug Regimen\"] == \"Capomulin\"), [\"Drug Regimen\",\"Tumor Volume (mm3)\"]]\n",
    "ramicane_df = combined_data.loc[(combined_data[\"Drug Regimen\"] == \"Ramicane\"), [\"Drug Regimen\",\"Tumor Volume (mm3)\"]]\n",
    "infubinol_df = combined_data.loc[(combined_data[\"Drug Regimen\"] == \"Infubinol\"), [\"Drug Regimen\",\"Tumor Volume (mm3)\"]]\n",
    "ceftamin_df = combined_data.loc[(combined_data[\"Drug Regimen\"] == \"Ceftamin\"), [\"Drug Regimen\",\"Tumor Volume (mm3)\"]]"
   ]
  },
  {
   "cell_type": "code",
   "execution_count": 14,
   "metadata": {},
   "outputs": [
    {
     "name": "stdout",
     "output_type": "stream",
     "text": [
      "-----------------CAPOMULIN RESULTS-----------------\n",
      "The lower quartile of temperatures is: 32.377357.\n",
      "The upper quartile of temperatures is: 40.15922.\n",
      "The interquartile range of tumor volumes is: 7.781863.\n",
      "Values below 20.704562 could be outliers.\n",
      "Values above 51.832015 could be outliers.\n",
      "There are no outliers.\n",
      "----------------------------------------------------\n"
     ]
    }
   ],
   "source": [
    "#Calculate capomulin\n",
    "ca_quartiles = capomulin_df[\"Tumor Volume (mm3)\"].quantile([.25,.5,.75])\n",
    "ca_lowerq = ca_quartiles[.25]\n",
    "ca_upperq = ca_quartiles[.75]\n",
    "ca_iqr = ca_upperq-ca_lowerq\n",
    "ca_lower_bound = ca_lowerq - (1.5*ca_iqr)\n",
    "ca_upper_bound = ca_upperq + (1.5*ca_iqr)\n",
    "print(f\"-----------------CAPOMULIN RESULTS-----------------\")\n",
    "print(f\"The lower quartile of temperatures is: {round(ca_lowerq,6)}.\")\n",
    "print(f\"The upper quartile of temperatures is: {round(ca_upperq,6)}.\")\n",
    "print(f\"The interquartile range of tumor volumes is: {round(ca_iqr,6)}.\")\n",
    "print(f\"Values below {round(ca_lower_bound,6)} could be outliers.\")\n",
    "print(f\"Values above {round(ca_upper_bound,6)} could be outliers.\")\n",
    "ca_outliers = capomulin_df.loc[(capomulin_df[\"Tumor Volume (mm3)\"]>ca_upper_bound)|(capomulin_df[\"Tumor Volume (mm3)\"]<ca_lower_bound),:]\n",
    "#print(f\"The following are outlier values: {ca_outliers}.\")\n",
    "print(f\"There are no outliers.\")\n",
    "print(f\"----------------------------------------------------\")"
   ]
  },
  {
   "cell_type": "code",
   "execution_count": 15,
   "metadata": {},
   "outputs": [
    {
     "name": "stdout",
     "output_type": "stream",
     "text": [
      "------------------RAMICANE RESULTS------------------\n",
      "The lower quartile of temperatures is: 31.56047.\n",
      "The upper quartile of temperatures is: 40.659006.\n",
      "The interquartile range of tumor volumes is: 9.098537.\n",
      "Values below 17.912664 could be outliers.\n",
      "Values above 54.306811 could be outliers.\n",
      "There are no outliers.\n",
      "----------------------------------------------------\n"
     ]
    }
   ],
   "source": [
    "#ramicane\n",
    "ra_quartiles = ramicane_df[\"Tumor Volume (mm3)\"].quantile([.25,.5,.75])\n",
    "ra_lowerq = ra_quartiles[.25]\n",
    "ra_upperq = ra_quartiles[.75]\n",
    "ra_iqr = ra_upperq-ra_lowerq\n",
    "ra_lower_bound = ra_lowerq - (1.5*ra_iqr)\n",
    "ra_upper_bound = ra_upperq + (1.5*ra_iqr)\n",
    "print(f\"------------------RAMICANE RESULTS------------------\")\n",
    "print(f\"The lower quartile of temperatures is: {round(ra_lowerq,6)}.\")\n",
    "print(f\"The upper quartile of temperatures is: {round(ra_upperq,6)}.\")\n",
    "print(f\"The interquartile range of tumor volumes is: {round(ra_iqr,6)}.\")\n",
    "print(f\"Values below {round(ra_lower_bound,6)} could be outliers.\")\n",
    "print(f\"Values above {round(ra_upper_bound,6)} could be outliers.\")\n",
    "ra_outliers = ramicane_df.loc[(ramicane_df[\"Tumor Volume (mm3)\"]>ra_upper_bound)|(ramicane_df[\"Tumor Volume (mm3)\"]<ra_lower_bound),:]\n",
    "#print(f\"The following are outlier values: {ra_outliers}.\")\n",
    "print(f\"There are no outliers.\")\n",
    "print(f\"----------------------------------------------------\")"
   ]
  },
  {
   "cell_type": "code",
   "execution_count": 16,
   "metadata": {},
   "outputs": [
    {
     "name": "stdout",
     "output_type": "stream",
     "text": [
      "------------------INFUBINOL RESULTS------------------\n",
      "The lower quartile of temperatures is: 54.048608.\n",
      "The upper quartile of temperatures is: 65.525743.\n",
      "The interquartile range of tumor volumes is: 11.477135.\n",
      "Values below 36.832905 could be outliers.\n",
      "Values above 82.741446 could be outliers.\n",
      "The following are outlier values: 36.321346.\n",
      "----------------------------------------------------\n"
     ]
    }
   ],
   "source": [
    "#infubinol\n",
    "in_quartiles = infubinol_df[\"Tumor Volume (mm3)\"].quantile([.25,.5,.75])\n",
    "in_lowerq = in_quartiles[.25]\n",
    "in_upperq = in_quartiles[.75]\n",
    "in_iqr = in_upperq-in_lowerq\n",
    "in_lower_bound = in_lowerq - (1.5*in_iqr)\n",
    "in_upper_bound = in_upperq + (1.5*in_iqr)\n",
    "print(f\"------------------INFUBINOL RESULTS------------------\")\n",
    "print(f\"The lower quartile of temperatures is: {round(in_lowerq,6)}.\")\n",
    "print(f\"The upper quartile of temperatures is: {round(in_upperq,6)}.\")\n",
    "print(f\"The interquartile range of tumor volumes is: {round(in_iqr,6)}.\")\n",
    "print(f\"Values below {round(in_lower_bound,6)} could be outliers.\")\n",
    "print(f\"Values above {round(in_upper_bound,6)} could be outliers.\")\n",
    "in_outliers = infubinol_df.loc[(infubinol_df[\"Tumor Volume (mm3)\"]>in_upper_bound)|(infubinol_df[\"Tumor Volume (mm3)\"]<in_lower_bound),\"Tumor Volume (mm3)\"]\n",
    "print(f\"The following are outlier values: {round(float(in_outliers),6)}.\")\n",
    "#print(f\"There are no outliers.\")\n",
    "print(f\"----------------------------------------------------\")"
   ]
  },
  {
   "cell_type": "code",
   "execution_count": 17,
   "metadata": {},
   "outputs": [
    {
     "name": "stdout",
     "output_type": "stream",
     "text": [
      "------------------CEFTAMIN RESULTS------------------\n",
      "The lower quartile of temperatures is: 48.722078.\n",
      "The upper quartile of temperatures is: 64.29983.\n",
      "The interquartile range of tumor volumes is: 15.577752.\n",
      "Values below 25.35545 could be outliers.\n",
      "Values above 87.666458 could be outliers.\n",
      "There are no outliers.\n",
      "----------------------------------------------------\n"
     ]
    }
   ],
   "source": [
    "#ceftamin\n",
    "ce_quartiles = ceftamin_df[\"Tumor Volume (mm3)\"].quantile([.25,.5,.75])\n",
    "ce_lowerq = ce_quartiles[.25]\n",
    "ce_upperq = ce_quartiles[.75]\n",
    "ce_iqr = ce_upperq-ce_lowerq\n",
    "ce_lower_bound = ce_lowerq - (1.5*ce_iqr)\n",
    "ce_upper_bound = ce_upperq + (1.5*ce_iqr)\n",
    "print(f\"------------------CEFTAMIN RESULTS------------------\")\n",
    "print(f\"The lower quartile of temperatures is: {round(ce_lowerq,6)}.\")\n",
    "print(f\"The upper quartile of temperatures is: {round(ce_upperq,6)}.\")\n",
    "print(f\"The interquartile range of tumor volumes is: {round(ce_iqr,6)}.\")\n",
    "print(f\"Values below {round(ce_lower_bound,6)} could be outliers.\")\n",
    "print(f\"Values above {round(ce_upper_bound,6)} could be outliers.\")\n",
    "ce_outliers = ceftamin_df.loc[(ceftamin_df[\"Tumor Volume (mm3)\"]>ce_upper_bound)|(ceftamin_df[\"Tumor Volume (mm3)\"]<ce_lower_bound),\"Tumor Volume (mm3)\"]\n",
    "#print(f\"The following are outlier values: {round(float(ce_outliers),6)}.\")\n",
    "print(f\"There are no outliers.\")\n",
    "print(f\"----------------------------------------------------\")"
   ]
  },
  {
   "cell_type": "code",
   "execution_count": 18,
   "metadata": {},
   "outputs": [
    {
     "data": {
      "image/png": "[encoded data removed]",
      "text/plain": [
       "<Figure size 432x288 with 1 Axes>"
      ]
     },
     "metadata": {
      "needs_background": "light"
     },
     "output_type": "display_data"
    }
   ],
   "source": [
    "# Generate a box plot of the final tumor volume of each mouse across four regimens of interest\n",
    "capomulin_df = combined_data.loc[(combined_data[\"Drug Regimen\"] == \"Capomulin\"), \"Tumor Volume (mm3)\"]\n",
    "ramicane_df = combined_data.loc[(combined_data[\"Drug Regimen\"] == \"Ramicane\"), \"Tumor Volume (mm3)\"]\n",
    "infubinol_df = combined_data.loc[(combined_data[\"Drug Regimen\"] == \"Infubinol\"), \"Tumor Volume (mm3)\"]\n",
    "ceftamin_df = combined_data.loc[(combined_data[\"Drug Regimen\"] == \"Ceftamin\"), \"Tumor Volume (mm3)\"]\n",
    "dr_dfs=[capomulin_df, ramicane_df, infubinol_df, ceftamin_df]\n",
    "flierprops = dict(marker='o', markerfacecolor='r', markersize=12)\n",
    "plt.boxplot(dr_dfs, flierprops=flierprops)\n",
    "plt.xticks([1,2,3,4],[\"Capomulin\",\"Ramicane\",\"Infubinol\",\"Ceftamin\"])\n",
    "plt.ylabel(\"Final Tumor Volume (mm3)\")\n",
    "plt.show()"
   ]
  },
  {
   "cell_type": "markdown",
   "metadata": {},
   "source": [
    "## Line and Scatter Plots"
   ]
  },
  {
   "cell_type": "code",
   "execution_count": 19,
   "metadata": {},
   "outputs": [
    {
     "data": {
      "image/png": "[encoded data removed]",
      "text/plain": [
       "<Figure size 432x288 with 1 Axes>"
      ]
     },
     "metadata": {
      "needs_background": "light"
     },
     "output_type": "display_data"
    }
   ],
   "source": [
    "# Generate a line plot of time point versus tumor volume for a mouse treated with Capomulin\n",
    "new_data = pd.merge(mouse_metadata, study_results, on=\"Mouse ID\")\n",
    "new_data.drop_duplicates(subset=[\"Mouse ID\",\"Timepoint\"], inplace=True)\n",
    "capo_mouse_df = new_data.loc[(new_data[\"Mouse ID\"] == \"l509\"), :]\n",
    "tumor_vol = capo_mouse_df[\"Tumor Volume (mm3)\"]\n",
    "x_axis = capo_mouse_df[\"Timepoint\"]\n",
    "plt.plot(x_axis, tumor_vol)\n",
    "plt.title(\"Capomulin Treatment of Mouse l509\")\n",
    "plt.ylabel(\"Tumor Volume (mm3)\")\n",
    "plt.xlabel(\"Timepoint (days)\")\n",
    "plt.show()"
   ]
  },
  {
   "cell_type": "code",
   "execution_count": 20,
   "metadata": {},
   "outputs": [
    {
     "data": {
      "image/png": "[encoded data removed]",
      "text/plain": [
       "<Figure size 432x288 with 1 Axes>"
      ]
     },
     "metadata": {
      "needs_background": "light"
     },
     "output_type": "display_data"
    }
   ],
   "source": [
    "# Generate a scatter plot of mouse weight versus average tumor volume for the Capomulin regimen\n",
    "capo_reg_df = new_data.loc[(new_data[\"Drug Regimen\"] == \"Capomulin\"), :]\n",
    "grouped_capo = capo_reg_df.groupby(\"Mouse ID\")\n",
    "weight = grouped_capo[\"Weight (g)\"].unique()\n",
    "avg_tumor_vol = grouped_capo[\"Tumor Volume (mm3)\"].mean()\n",
    "\n",
    "plt.scatter(weight, avg_tumor_vol)\n",
    "plt.ylabel(\"Average Tumor Volume (mm3)\")\n",
    "plt.xlabel(\"Weight (g)\")\n",
    "plt.show()"
   ]
  },
  {
   "cell_type": "markdown",
   "metadata": {},
   "source": [
    "## Correlation and Regression"
   ]
  },
  {
   "cell_type": "code",
   "execution_count": 21,
   "metadata": {},
   "outputs": [
    {
     "name": "stdout",
     "output_type": "stream",
     "text": [
      "The correlation coefficient between mouse weight and average tumor volume is 0.84.\n"
     ]
    }
   ],
   "source": [
    "# Calculate the correlation coefficient and linear regression model \n",
    "# for mouse weight and average tumor volume for the Capomulin regimen\n",
    "corr_df = pd.DataFrame(weight)\n",
    "corr_df['Avg Tumor Vol'] = grouped_capo[\"Tumor Volume (mm3)\"].mean()\n",
    "corr_df[\"Weight (g)\"] = corr_df[\"Weight (g)\"].astype(int)\n",
    "corr_df\n",
    "weight = corr_df.loc[:,\"Weight (g)\"]\n",
    "avg_tum_vol = corr_df.loc[:,\"Avg Tumor Vol\"]\n",
    "print(f\"The correlation coefficient between mouse weight and average tumor volume is {round(st.pearsonr(weight,avg_tum_vol)[0],2)}.\")"
   ]
  },
  {
   "cell_type": "code",
   "execution_count": 22,
   "metadata": {},
   "outputs": [
    {
     "data": {
      "image/png": "[encoded data removed]",
      "text/plain": [
       "<Figure size 432x288 with 1 Axes>"
      ]
     },
     "metadata": {
      "needs_background": "light"
     },
     "output_type": "display_data"
    }
   ],
   "source": [
    "(slope, intercept, rvalue, pvalue, stderr) = linregress(weight, avg_tum_vol)\n",
    "regress_values = weight * slope + intercept\n",
    "line_eq = f'y = {str(round(slope,2))}x + {str(round(intercept,2))}'\n",
    "plt.scatter(weight,avg_tum_vol)\n",
    "plt.plot(weight, regress_values, \"r-\")\n",
    "plt.annotate(line_eq,(19,38),fontsize=15,color=\"red\")\n",
    "plt.xlabel(\"Mouse Weight (g)\")\n",
    "plt.ylabel(\"Average Tumor Volume (mm3)\")\n",
    "plt.show()"
   ]
  },
  {
   "cell_type": "code",
   "execution_count": null,
   "metadata": {},
   "outputs": [],
   "source": []
  }
 ],
 "metadata": {
  "anaconda-cloud": {},
  "kernelspec": {
   "display_name": "Python 3",
   "language": "python",
   "name": "python3"
  },
  "language_info": {
   "codemirror_mode": {
    "name": "ipython",
    "version": 3
   },
   "file_extension": ".py",
   "mimetype": "text/x-python",
   "name": "python",
   "nbconvert_exporter": "python",
   "pygments_lexer": "ipython3",
   "version": "3.7.4"
  }
 },
 "nbformat": 4,
 "nbformat_minor": 2
}
